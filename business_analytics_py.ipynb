{
 "cells": [
  {
   "cell_type": "code",
   "execution_count": 1,
   "id": "968f26ba-7fea-46dc-b96b-7c5d340c0cbf",
   "metadata": {},
   "outputs": [],
   "source": [
    "## импорт библиотек\n",
    "import pandas as pd\n",
    "import numpy as np\n",
    "import seaborn as sns\n",
    "from matplotlib import pyplot as plt\n",
    "import datetime as dt\n",
    "from sympy import symbols, Eq, solve\n",
    "import warnings"
   ]
  },
  {
   "cell_type": "code",
   "execution_count": 2,
   "id": "393329b3-c8c3-4f85-9298-ae499c9147cb",
   "metadata": {},
   "outputs": [],
   "source": [
    "warnings.filterwarnings('ignore')\n",
    "warnings.simplefilter('ignore')"
   ]
  },
  {
   "cell_type": "markdown",
   "id": "bc3ef261-c28d-4a70-987a-2fd5bdc4a35d",
   "metadata": {},
   "source": [
    "### Загрузка и проверка данных"
   ]
  },
  {
   "cell_type": "code",
   "execution_count": 3,
   "id": "9331b3b0-765a-4749-9eaa-0b69bd33dfd6",
   "metadata": {},
   "outputs": [],
   "source": [
    "deliver = pd.read_excel('data/Test data - analytics.xlsx', sheet_name='Delliveries')\n",
    "tariff = pd.read_excel('data/Test data - analytics.xlsx', sheet_name='Tariff')"
   ]
  },
  {
   "cell_type": "code",
   "execution_count": 4,
   "id": "d146ed4c-6920-4cb0-800f-fcf81b9f2a07",
   "metadata": {},
   "outputs": [
    {
     "data": {
      "text/html": [
       "<div>\n",
       "<style scoped>\n",
       "    .dataframe tbody tr th:only-of-type {\n",
       "        vertical-align: middle;\n",
       "    }\n",
       "\n",
       "    .dataframe tbody tr th {\n",
       "        vertical-align: top;\n",
       "    }\n",
       "\n",
       "    .dataframe thead th {\n",
       "        text-align: right;\n",
       "    }\n",
       "</style>\n",
       "<table border=\"1\" class=\"dataframe\">\n",
       "  <thead>\n",
       "    <tr style=\"text-align: right;\">\n",
       "      <th></th>\n",
       "      <th>Client</th>\n",
       "      <th>Week</th>\n",
       "      <th>Distance</th>\n",
       "      <th>Number of parcels</th>\n",
       "    </tr>\n",
       "  </thead>\n",
       "  <tbody>\n",
       "    <tr>\n",
       "      <th>0</th>\n",
       "      <td>А</td>\n",
       "      <td>2023-03-16</td>\n",
       "      <td>10.017112</td>\n",
       "      <td>3</td>\n",
       "    </tr>\n",
       "    <tr>\n",
       "      <th>1</th>\n",
       "      <td>А</td>\n",
       "      <td>2023-03-13</td>\n",
       "      <td>4.201492</td>\n",
       "      <td>2</td>\n",
       "    </tr>\n",
       "    <tr>\n",
       "      <th>2</th>\n",
       "      <td>А</td>\n",
       "      <td>2023-03-13</td>\n",
       "      <td>16.400596</td>\n",
       "      <td>5</td>\n",
       "    </tr>\n",
       "    <tr>\n",
       "      <th>3</th>\n",
       "      <td>А</td>\n",
       "      <td>2023-03-15</td>\n",
       "      <td>6.283481</td>\n",
       "      <td>3</td>\n",
       "    </tr>\n",
       "    <tr>\n",
       "      <th>4</th>\n",
       "      <td>А</td>\n",
       "      <td>2023-03-15</td>\n",
       "      <td>3.389424</td>\n",
       "      <td>2</td>\n",
       "    </tr>\n",
       "  </tbody>\n",
       "</table>\n",
       "</div>"
      ],
      "text/plain": [
       "  Client       Week   Distance  Number of parcels\n",
       "0      А 2023-03-16  10.017112                  3\n",
       "1      А 2023-03-13   4.201492                  2\n",
       "2      А 2023-03-13  16.400596                  5\n",
       "3      А 2023-03-15   6.283481                  3\n",
       "4      А 2023-03-15   3.389424                  2"
      ]
     },
     "execution_count": 4,
     "metadata": {},
     "output_type": "execute_result"
    }
   ],
   "source": [
    "deliver.head()"
   ]
  },
  {
   "cell_type": "markdown",
   "id": "d9a3230e-6e0e-448c-9030-976055fdc32e",
   "metadata": {},
   "source": [
    "- переименнуем последнюю переменную для улаления пробелов"
   ]
  },
  {
   "cell_type": "code",
   "execution_count": 5,
   "id": "26192764-aacb-4ede-a369-8eb497696883",
   "metadata": {},
   "outputs": [],
   "source": [
    "deliver = deliver.rename(columns={'Number of parcels': 'Num_of_parcels'})"
   ]
  },
  {
   "cell_type": "code",
   "execution_count": 6,
   "id": "fb66e1a9-b115-458d-bdbc-96670c470dcc",
   "metadata": {},
   "outputs": [
    {
     "name": "stdout",
     "output_type": "stream",
     "text": [
      "<class 'pandas.core.frame.DataFrame'>\n",
      "RangeIndex: 199 entries, 0 to 198\n",
      "Data columns (total 4 columns):\n",
      " #   Column          Non-Null Count  Dtype         \n",
      "---  ------          --------------  -----         \n",
      " 0   Client          199 non-null    object        \n",
      " 1   Week            199 non-null    datetime64[ns]\n",
      " 2   Distance        199 non-null    float64       \n",
      " 3   Num_of_parcels  199 non-null    int64         \n",
      "dtypes: datetime64[ns](1), float64(1), int64(1), object(1)\n",
      "memory usage: 6.3+ KB\n"
     ]
    }
   ],
   "source": [
    "deliver.info()"
   ]
  },
  {
   "cell_type": "markdown",
   "id": "b24106a5-8e9e-4f4b-8942-dd946e382a2c",
   "metadata": {},
   "source": [
    "- переменная week уже определена в формате datetime"
   ]
  },
  {
   "cell_type": "code",
   "execution_count": 7,
   "id": "82a9dc06-9114-440d-bb02-30b4e18cddd9",
   "metadata": {},
   "outputs": [
    {
     "data": {
      "text/plain": [
       "0"
      ]
     },
     "execution_count": 7,
     "metadata": {},
     "output_type": "execute_result"
    }
   ],
   "source": [
    "deliver.isna().sum().sum()"
   ]
  },
  {
   "cell_type": "markdown",
   "id": "ee2b13fa-aa6c-4db0-b6b5-b26b6cc19fc5",
   "metadata": {},
   "source": [
    "- нет пропущенных значений во фрейме deliver "
   ]
  },
  {
   "cell_type": "code",
   "execution_count": 8,
   "id": "19803ab7-f704-4a08-bff5-757eb760a285",
   "metadata": {},
   "outputs": [
    {
     "data": {
      "text/html": [
       "<div>\n",
       "<style scoped>\n",
       "    .dataframe tbody tr th:only-of-type {\n",
       "        vertical-align: middle;\n",
       "    }\n",
       "\n",
       "    .dataframe tbody tr th {\n",
       "        vertical-align: top;\n",
       "    }\n",
       "\n",
       "    .dataframe thead th {\n",
       "        text-align: right;\n",
       "    }\n",
       "</style>\n",
       "<table border=\"1\" class=\"dataframe\">\n",
       "  <thead>\n",
       "    <tr style=\"text-align: right;\">\n",
       "      <th></th>\n",
       "      <th>Unnamed: 0</th>\n",
       "      <th>Unnamed: 1</th>\n",
       "    </tr>\n",
       "  </thead>\n",
       "  <tbody>\n",
       "    <tr>\n",
       "      <th>0</th>\n",
       "      <td>Tariffs per parcel</td>\n",
       "      <td>NaN</td>\n",
       "    </tr>\n",
       "    <tr>\n",
       "      <th>1</th>\n",
       "      <td>А</td>\n",
       "      <td>5.0</td>\n",
       "    </tr>\n",
       "    <tr>\n",
       "      <th>2</th>\n",
       "      <td>Б</td>\n",
       "      <td>6.0</td>\n",
       "    </tr>\n",
       "    <tr>\n",
       "      <th>3</th>\n",
       "      <td>С</td>\n",
       "      <td>8.0</td>\n",
       "    </tr>\n",
       "    <tr>\n",
       "      <th>4</th>\n",
       "      <td>Courier price per km</td>\n",
       "      <td>1.2</td>\n",
       "    </tr>\n",
       "  </tbody>\n",
       "</table>\n",
       "</div>"
      ],
      "text/plain": [
       "             Unnamed: 0  Unnamed: 1\n",
       "0    Tariffs per parcel         NaN\n",
       "1                     А         5.0\n",
       "2                     Б         6.0\n",
       "3                     С         8.0\n",
       "4  Courier price per km         1.2"
      ]
     },
     "execution_count": 8,
     "metadata": {},
     "output_type": "execute_result"
    }
   ],
   "source": [
    "tariff.head() "
   ]
  },
  {
   "cell_type": "markdown",
   "id": "4fc691ba-b2d7-4a92-8715-0cc72caacada",
   "metadata": {},
   "source": [
    "- зададим названия для колонок для читабельности и удобства в работе"
   ]
  },
  {
   "cell_type": "code",
   "execution_count": 9,
   "id": "d35ad8b8-b848-43fe-a6e0-40f7a5cbf266",
   "metadata": {},
   "outputs": [
    {
     "data": {
      "text/html": [
       "<div>\n",
       "<style scoped>\n",
       "    .dataframe tbody tr th:only-of-type {\n",
       "        vertical-align: middle;\n",
       "    }\n",
       "\n",
       "    .dataframe tbody tr th {\n",
       "        vertical-align: top;\n",
       "    }\n",
       "\n",
       "    .dataframe thead th {\n",
       "        text-align: right;\n",
       "    }\n",
       "</style>\n",
       "<table border=\"1\" class=\"dataframe\">\n",
       "  <thead>\n",
       "    <tr style=\"text-align: right;\">\n",
       "      <th></th>\n",
       "      <th>Client</th>\n",
       "      <th>Tariff_rate</th>\n",
       "    </tr>\n",
       "  </thead>\n",
       "  <tbody>\n",
       "    <tr>\n",
       "      <th>1</th>\n",
       "      <td>А</td>\n",
       "      <td>5.0</td>\n",
       "    </tr>\n",
       "    <tr>\n",
       "      <th>2</th>\n",
       "      <td>Б</td>\n",
       "      <td>6.0</td>\n",
       "    </tr>\n",
       "    <tr>\n",
       "      <th>3</th>\n",
       "      <td>С</td>\n",
       "      <td>8.0</td>\n",
       "    </tr>\n",
       "    <tr>\n",
       "      <th>4</th>\n",
       "      <td>Courier price per km</td>\n",
       "      <td>1.2</td>\n",
       "    </tr>\n",
       "  </tbody>\n",
       "</table>\n",
       "</div>"
      ],
      "text/plain": [
       "                 Client  Tariff_rate\n",
       "1                     А          5.0\n",
       "2                     Б          6.0\n",
       "3                     С          8.0\n",
       "4  Courier price per km          1.2"
      ]
     },
     "execution_count": 9,
     "metadata": {},
     "output_type": "execute_result"
    }
   ],
   "source": [
    "tariff = tariff.drop(index=0)\n",
    "tariff = tariff.rename(columns={\"Unnamed: 0\": \"Client\", \"Unnamed: 1\": \"Tariff_rate\"})\n",
    "tariff"
   ]
  },
  {
   "cell_type": "markdown",
   "id": "b06d85bc-15d2-437e-903a-b85d9553d9ce",
   "metadata": {},
   "source": [
    "### **Задания**\n",
    "------------------------"
   ]
  },
  {
   "cell_type": "markdown",
   "id": "701a2b4e-c52b-452a-bf1b-96b85af7e8f8",
   "metadata": {},
   "source": [
    "### 1. Посчитать выручку, издержки, прибыль, take rate (прибыль/выручку) за недели 13.03 и 20.03"
   ]
  },
  {
   "cell_type": "markdown",
   "id": "d8972084-58f3-4a0a-b3e3-3d3ca8fd31c5",
   "metadata": {},
   "source": [
    "#### 1.1 Подсчет выручки"
   ]
  },
  {
   "cell_type": "markdown",
   "id": "684d598c-ffe1-47cc-80ee-64ea699c121a",
   "metadata": {},
   "source": [
    "- отсортируем таблицу для вывода только тех посылок, которые были осуществлены в промежуток между 13.03 по 19.03"
   ]
  },
  {
   "cell_type": "code",
   "execution_count": 10,
   "id": "e5577b57-0de7-431d-b0e2-73b6653c4977",
   "metadata": {},
   "outputs": [
    {
     "data": {
      "text/html": [
       "<div>\n",
       "<style scoped>\n",
       "    .dataframe tbody tr th:only-of-type {\n",
       "        vertical-align: middle;\n",
       "    }\n",
       "\n",
       "    .dataframe tbody tr th {\n",
       "        vertical-align: top;\n",
       "    }\n",
       "\n",
       "    .dataframe thead th {\n",
       "        text-align: right;\n",
       "    }\n",
       "</style>\n",
       "<table border=\"1\" class=\"dataframe\">\n",
       "  <thead>\n",
       "    <tr style=\"text-align: right;\">\n",
       "      <th></th>\n",
       "      <th>Client</th>\n",
       "      <th>Week</th>\n",
       "      <th>Distance</th>\n",
       "      <th>Num_of_parcels</th>\n",
       "    </tr>\n",
       "  </thead>\n",
       "  <tbody>\n",
       "    <tr>\n",
       "      <th>0</th>\n",
       "      <td>А</td>\n",
       "      <td>2023-03-16</td>\n",
       "      <td>10.017112</td>\n",
       "      <td>3</td>\n",
       "    </tr>\n",
       "    <tr>\n",
       "      <th>1</th>\n",
       "      <td>А</td>\n",
       "      <td>2023-03-13</td>\n",
       "      <td>4.201492</td>\n",
       "      <td>2</td>\n",
       "    </tr>\n",
       "    <tr>\n",
       "      <th>2</th>\n",
       "      <td>А</td>\n",
       "      <td>2023-03-13</td>\n",
       "      <td>16.400596</td>\n",
       "      <td>5</td>\n",
       "    </tr>\n",
       "    <tr>\n",
       "      <th>3</th>\n",
       "      <td>А</td>\n",
       "      <td>2023-03-15</td>\n",
       "      <td>6.283481</td>\n",
       "      <td>3</td>\n",
       "    </tr>\n",
       "    <tr>\n",
       "      <th>4</th>\n",
       "      <td>А</td>\n",
       "      <td>2023-03-15</td>\n",
       "      <td>3.389424</td>\n",
       "      <td>2</td>\n",
       "    </tr>\n",
       "  </tbody>\n",
       "</table>\n",
       "</div>"
      ],
      "text/plain": [
       "  Client       Week   Distance  Num_of_parcels\n",
       "0      А 2023-03-16  10.017112               3\n",
       "1      А 2023-03-13   4.201492               2\n",
       "2      А 2023-03-13  16.400596               5\n",
       "3      А 2023-03-15   6.283481               3\n",
       "4      А 2023-03-15   3.389424               2"
      ]
     },
     "execution_count": 10,
     "metadata": {},
     "output_type": "execute_result"
    }
   ],
   "source": [
    "deliver_week1 = deliver.query('Week >= \"2023-03-13\" and Week <= \"2023-03-19\"')\n",
    "deliver_week1.head()"
   ]
  },
  {
   "cell_type": "code",
   "execution_count": 11,
   "id": "67f939d2-6661-4a4b-b287-d898f3d297d6",
   "metadata": {},
   "outputs": [
    {
     "name": "stdout",
     "output_type": "stream",
     "text": [
      "Список дней после сортировки:\n"
     ]
    },
    {
     "data": {
      "text/plain": [
       "[numpy.datetime64('2023-03-13T00:00:00.000000000'),\n",
       " numpy.datetime64('2023-03-14T00:00:00.000000000'),\n",
       " numpy.datetime64('2023-03-15T00:00:00.000000000'),\n",
       " numpy.datetime64('2023-03-16T00:00:00.000000000'),\n",
       " numpy.datetime64('2023-03-17T00:00:00.000000000'),\n",
       " numpy.datetime64('2023-03-18T00:00:00.000000000'),\n",
       " numpy.datetime64('2023-03-19T00:00:00.000000000')]"
      ]
     },
     "metadata": {},
     "output_type": "display_data"
    },
    {
     "name": "stdout",
     "output_type": "stream",
     "text": [
      "\n",
      "Количество дней: 7\n"
     ]
    }
   ],
   "source": [
    "print('Список дней после сортировки:')\n",
    "display(sorted(deliver_week1['Week'].unique()))\n",
    "print()\n",
    "print('Количество дней:', deliver_week1['Week'].nunique())"
   ]
  },
  {
   "cell_type": "markdown",
   "id": "617c3e24-3fad-43cd-b577-ea106489be0a",
   "metadata": {},
   "source": [
    "- В отсортированном фрейме содержится информация по каждому дню в период с 13.03.2023 по 20.03.2023\n",
    "- В промежуток между этими датами (включительно) попали 8 дней"
   ]
  },
  {
   "cell_type": "markdown",
   "id": "50e89e27-063d-4c97-b27d-2d1517d7fa66",
   "metadata": {},
   "source": [
    "Агрегируем количество доставленных посылок по трем клиентам А, Б и С."
   ]
  },
  {
   "cell_type": "code",
   "execution_count": 12,
   "id": "15280985-7560-435d-8429-b061b5184f02",
   "metadata": {},
   "outputs": [
    {
     "data": {
      "text/html": [
       "<div>\n",
       "<style scoped>\n",
       "    .dataframe tbody tr th:only-of-type {\n",
       "        vertical-align: middle;\n",
       "    }\n",
       "\n",
       "    .dataframe tbody tr th {\n",
       "        vertical-align: top;\n",
       "    }\n",
       "\n",
       "    .dataframe thead th {\n",
       "        text-align: right;\n",
       "    }\n",
       "</style>\n",
       "<table border=\"1\" class=\"dataframe\">\n",
       "  <thead>\n",
       "    <tr style=\"text-align: right;\">\n",
       "      <th></th>\n",
       "      <th>Client</th>\n",
       "      <th>Num_of_parcels</th>\n",
       "    </tr>\n",
       "  </thead>\n",
       "  <tbody>\n",
       "    <tr>\n",
       "      <th>0</th>\n",
       "      <td>А</td>\n",
       "      <td>76</td>\n",
       "    </tr>\n",
       "    <tr>\n",
       "      <th>1</th>\n",
       "      <td>Б</td>\n",
       "      <td>152</td>\n",
       "    </tr>\n",
       "    <tr>\n",
       "      <th>2</th>\n",
       "      <td>С</td>\n",
       "      <td>147</td>\n",
       "    </tr>\n",
       "  </tbody>\n",
       "</table>\n",
       "</div>"
      ],
      "text/plain": [
       "  Client  Num_of_parcels\n",
       "0      А              76\n",
       "1      Б             152\n",
       "2      С             147"
      ]
     },
     "execution_count": 12,
     "metadata": {},
     "output_type": "execute_result"
    }
   ],
   "source": [
    "count_by_client1 = deliver_week1.groupby('Client').agg({'Num_of_parcels': 'sum'}).reset_index()\n",
    "count_by_client1"
   ]
  },
  {
   "cell_type": "markdown",
   "id": "8873be98-a229-49d8-9af4-f08aa06597ba",
   "metadata": {},
   "source": [
    "- Умножим количество доставленных посылок в период с 13.03.2023 по 19.03.2023 на тарифную ставку за одну посылку для каждого клиента.\n",
    "- Так мы узнаем выручку по каждому клиенту.\n",
    "- Информация о тарифах для оплаты посылок для каждого клиента содержится в таблице ``tariff``. \n",
    "- Поэтому нужно соединить значения тарифных ставок для каждого клиента, используя колонку ``tariff.Client`` как ключ."
   ]
  },
  {
   "cell_type": "code",
   "execution_count": 13,
   "id": "614b88e3-6c52-4629-8fed-1d2df07afe9a",
   "metadata": {},
   "outputs": [
    {
     "data": {
      "text/html": [
       "<div>\n",
       "<style scoped>\n",
       "    .dataframe tbody tr th:only-of-type {\n",
       "        vertical-align: middle;\n",
       "    }\n",
       "\n",
       "    .dataframe tbody tr th {\n",
       "        vertical-align: top;\n",
       "    }\n",
       "\n",
       "    .dataframe thead th {\n",
       "        text-align: right;\n",
       "    }\n",
       "</style>\n",
       "<table border=\"1\" class=\"dataframe\">\n",
       "  <thead>\n",
       "    <tr style=\"text-align: right;\">\n",
       "      <th></th>\n",
       "      <th>Client</th>\n",
       "      <th>Num_of_parcels</th>\n",
       "      <th>Tariff_rate</th>\n",
       "    </tr>\n",
       "  </thead>\n",
       "  <tbody>\n",
       "    <tr>\n",
       "      <th>0</th>\n",
       "      <td>А</td>\n",
       "      <td>76</td>\n",
       "      <td>5.0</td>\n",
       "    </tr>\n",
       "    <tr>\n",
       "      <th>1</th>\n",
       "      <td>Б</td>\n",
       "      <td>152</td>\n",
       "      <td>6.0</td>\n",
       "    </tr>\n",
       "    <tr>\n",
       "      <th>2</th>\n",
       "      <td>С</td>\n",
       "      <td>147</td>\n",
       "      <td>8.0</td>\n",
       "    </tr>\n",
       "  </tbody>\n",
       "</table>\n",
       "</div>"
      ],
      "text/plain": [
       "  Client  Num_of_parcels  Tariff_rate\n",
       "0      А              76          5.0\n",
       "1      Б             152          6.0\n",
       "2      С             147          8.0"
      ]
     },
     "execution_count": 13,
     "metadata": {},
     "output_type": "execute_result"
    }
   ],
   "source": [
    "count_by_client_tariff1 = pd.merge(count_by_client1, tariff, on='Client')\n",
    "count_by_client_tariff1"
   ]
  },
  {
   "cell_type": "code",
   "execution_count": 14,
   "id": "1505ed94-ec92-4222-88dc-a36da7db2faa",
   "metadata": {},
   "outputs": [
    {
     "data": {
      "text/html": [
       "<div>\n",
       "<style scoped>\n",
       "    .dataframe tbody tr th:only-of-type {\n",
       "        vertical-align: middle;\n",
       "    }\n",
       "\n",
       "    .dataframe tbody tr th {\n",
       "        vertical-align: top;\n",
       "    }\n",
       "\n",
       "    .dataframe thead th {\n",
       "        text-align: right;\n",
       "    }\n",
       "</style>\n",
       "<table border=\"1\" class=\"dataframe\">\n",
       "  <thead>\n",
       "    <tr style=\"text-align: right;\">\n",
       "      <th></th>\n",
       "      <th>Client</th>\n",
       "      <th>Num_of_parcels</th>\n",
       "      <th>Tariff_rate</th>\n",
       "      <th>Revenue</th>\n",
       "    </tr>\n",
       "  </thead>\n",
       "  <tbody>\n",
       "    <tr>\n",
       "      <th>0</th>\n",
       "      <td>А</td>\n",
       "      <td>76</td>\n",
       "      <td>5.0</td>\n",
       "      <td>380.0</td>\n",
       "    </tr>\n",
       "    <tr>\n",
       "      <th>1</th>\n",
       "      <td>Б</td>\n",
       "      <td>152</td>\n",
       "      <td>6.0</td>\n",
       "      <td>912.0</td>\n",
       "    </tr>\n",
       "    <tr>\n",
       "      <th>2</th>\n",
       "      <td>С</td>\n",
       "      <td>147</td>\n",
       "      <td>8.0</td>\n",
       "      <td>1176.0</td>\n",
       "    </tr>\n",
       "  </tbody>\n",
       "</table>\n",
       "</div>"
      ],
      "text/plain": [
       "  Client  Num_of_parcels  Tariff_rate  Revenue\n",
       "0      А              76          5.0    380.0\n",
       "1      Б             152          6.0    912.0\n",
       "2      С             147          8.0   1176.0"
      ]
     },
     "execution_count": 14,
     "metadata": {},
     "output_type": "execute_result"
    }
   ],
   "source": [
    "count_by_client_tariff1['Revenue'] = count_by_client_tariff1['Num_of_parcels'] * count_by_client_tariff1['Tariff_rate']\n",
    "count_by_client_tariff1"
   ]
  },
  {
   "cell_type": "markdown",
   "id": "9bd9f4ca-23f4-429e-ba90-bb37b2aed240",
   "metadata": {},
   "source": [
    "- Теперь можно вычислить сумму выручки, принесенную каждым клиентом, чтобы узнать общий объем выручки от поставок посылок клиентам в период с 13.03.2023 по 19.03.2023."
   ]
  },
  {
   "cell_type": "code",
   "execution_count": 15,
   "id": "9e38286c-fcdf-441b-ad06-d274e69d354e",
   "metadata": {},
   "outputs": [
    {
     "name": "stdout",
     "output_type": "stream",
     "text": [
      "Общий объем выручки в период с 13.03 по 19.03: 2468.0 у.е.\n"
     ]
    }
   ],
   "source": [
    "print('Общий объем выручки в период с 13.03 по 19.03:', sum(count_by_client_tariff1['Revenue']), 'у.е.')"
   ]
  },
  {
   "cell_type": "markdown",
   "id": "b6f6f797-e9ed-49ea-a6e3-fe3976d10b24",
   "metadata": {},
   "source": [
    "- Пропишем функцию для автоматизации задачи по рассчету выручки за выбранную неделю:"
   ]
  },
  {
   "cell_type": "code",
   "execution_count": 16,
   "id": "2e8054fc-83d4-4c6c-bbb6-4c6ea3d5f9a4",
   "metadata": {},
   "outputs": [],
   "source": [
    "def calc_revenue(date1, date2):\n",
    "    \n",
    "    deliver_week = deliver.query('Week >= @date1 and Week <= @date2')\n",
    "    \n",
    "    count_by_client = deliver_week.groupby('Client').agg({'Num_of_parcels': 'sum'}).reset_index()\n",
    "    \n",
    "    count_by_client_tariff = pd.merge(count_by_client, tariff, on='Client')\n",
    "    \n",
    "    count_by_client_tariff['Revenue'] = count_by_client_tariff['Num_of_parcels'] * count_by_client_tariff['Tariff_rate']\n",
    "    \n",
    "    print(f'Общий объем выручки в период с {date1} по {date2}:', sum(count_by_client_tariff['Revenue']), 'у.е.')\n",
    "    return sum(count_by_client_tariff['Revenue'])"
   ]
  },
  {
   "cell_type": "code",
   "execution_count": 17,
   "id": "86f6846f-303d-4bcd-97ef-01342424a445",
   "metadata": {},
   "outputs": [
    {
     "name": "stdout",
     "output_type": "stream",
     "text": [
      "Общий объем выручки в период с 2023-03-13 по 2023-03-19: 2468.0 у.е.\n"
     ]
    }
   ],
   "source": [
    "rev_week1 = calc_revenue('2023-03-13', '2023-03-19')"
   ]
  },
  {
   "cell_type": "code",
   "execution_count": 18,
   "id": "4cab71e8-3fe4-4ebb-9c8f-57498e6dac83",
   "metadata": {},
   "outputs": [
    {
     "name": "stdout",
     "output_type": "stream",
     "text": [
      "Общий объем выручки в период с 2023-03-20 по 2023-03-26: 2249.0 у.е.\n"
     ]
    }
   ],
   "source": [
    "rev_week2 = calc_revenue('2023-03-20', '2023-03-26')"
   ]
  },
  {
   "cell_type": "markdown",
   "id": "808981b5-53c6-4dee-b9b9-8867d742eb69",
   "metadata": {},
   "source": [
    "#### 1.2 Подсчет издержек"
   ]
  },
  {
   "cell_type": "markdown",
   "id": "58e60480-3538-48fa-9b04-eadbdc3748d0",
   "metadata": {},
   "source": [
    "- Издержки составляют оплату зактрат на доставку посылок клиентам.\n",
    "- Каждому клиенту корреспондирует значение расстояния:"
   ]
  },
  {
   "cell_type": "code",
   "execution_count": 19,
   "id": "099f0c21-b942-409e-b051-c47d83234f14",
   "metadata": {},
   "outputs": [
    {
     "data": {
      "text/html": [
       "<div>\n",
       "<style scoped>\n",
       "    .dataframe tbody tr th:only-of-type {\n",
       "        vertical-align: middle;\n",
       "    }\n",
       "\n",
       "    .dataframe tbody tr th {\n",
       "        vertical-align: top;\n",
       "    }\n",
       "\n",
       "    .dataframe thead th {\n",
       "        text-align: right;\n",
       "    }\n",
       "</style>\n",
       "<table border=\"1\" class=\"dataframe\">\n",
       "  <thead>\n",
       "    <tr style=\"text-align: right;\">\n",
       "      <th></th>\n",
       "      <th>Client</th>\n",
       "      <th>Week</th>\n",
       "      <th>Distance</th>\n",
       "      <th>Num_of_parcels</th>\n",
       "    </tr>\n",
       "  </thead>\n",
       "  <tbody>\n",
       "    <tr>\n",
       "      <th>0</th>\n",
       "      <td>А</td>\n",
       "      <td>2023-03-16</td>\n",
       "      <td>10.017112</td>\n",
       "      <td>3</td>\n",
       "    </tr>\n",
       "    <tr>\n",
       "      <th>1</th>\n",
       "      <td>А</td>\n",
       "      <td>2023-03-13</td>\n",
       "      <td>4.201492</td>\n",
       "      <td>2</td>\n",
       "    </tr>\n",
       "    <tr>\n",
       "      <th>2</th>\n",
       "      <td>А</td>\n",
       "      <td>2023-03-13</td>\n",
       "      <td>16.400596</td>\n",
       "      <td>5</td>\n",
       "    </tr>\n",
       "    <tr>\n",
       "      <th>3</th>\n",
       "      <td>А</td>\n",
       "      <td>2023-03-15</td>\n",
       "      <td>6.283481</td>\n",
       "      <td>3</td>\n",
       "    </tr>\n",
       "    <tr>\n",
       "      <th>4</th>\n",
       "      <td>А</td>\n",
       "      <td>2023-03-15</td>\n",
       "      <td>3.389424</td>\n",
       "      <td>2</td>\n",
       "    </tr>\n",
       "  </tbody>\n",
       "</table>\n",
       "</div>"
      ],
      "text/plain": [
       "  Client       Week   Distance  Num_of_parcels\n",
       "0      А 2023-03-16  10.017112               3\n",
       "1      А 2023-03-13   4.201492               2\n",
       "2      А 2023-03-13  16.400596               5\n",
       "3      А 2023-03-15   6.283481               3\n",
       "4      А 2023-03-15   3.389424               2"
      ]
     },
     "execution_count": 19,
     "metadata": {},
     "output_type": "execute_result"
    }
   ],
   "source": [
    "deliver.head()"
   ]
  },
  {
   "cell_type": "markdown",
   "id": "b221f372-9c96-4233-a0a9-50d0c2b4315f",
   "metadata": {},
   "source": [
    "- Значения дистанции (км) до клиента нужно  умножить на курьерскую ставку за один км.\n",
    "- Значение курьерской ставки за км находится в таблице ``tariff``:"
   ]
  },
  {
   "cell_type": "code",
   "execution_count": 20,
   "id": "e3c7dc6d-5077-48e0-ba71-28dd95e6ad0d",
   "metadata": {},
   "outputs": [
    {
     "data": {
      "text/html": [
       "<div>\n",
       "<style scoped>\n",
       "    .dataframe tbody tr th:only-of-type {\n",
       "        vertical-align: middle;\n",
       "    }\n",
       "\n",
       "    .dataframe tbody tr th {\n",
       "        vertical-align: top;\n",
       "    }\n",
       "\n",
       "    .dataframe thead th {\n",
       "        text-align: right;\n",
       "    }\n",
       "</style>\n",
       "<table border=\"1\" class=\"dataframe\">\n",
       "  <thead>\n",
       "    <tr style=\"text-align: right;\">\n",
       "      <th></th>\n",
       "      <th>Client</th>\n",
       "      <th>Tariff_rate</th>\n",
       "    </tr>\n",
       "  </thead>\n",
       "  <tbody>\n",
       "    <tr>\n",
       "      <th>4</th>\n",
       "      <td>Courier price per km</td>\n",
       "      <td>1.2</td>\n",
       "    </tr>\n",
       "  </tbody>\n",
       "</table>\n",
       "</div>"
      ],
      "text/plain": [
       "                 Client  Tariff_rate\n",
       "4  Courier price per km          1.2"
      ]
     },
     "execution_count": 20,
     "metadata": {},
     "output_type": "execute_result"
    }
   ],
   "source": [
    "tariff.loc[4:]"
   ]
  },
  {
   "cell_type": "code",
   "execution_count": 21,
   "id": "9ba870d9-fe24-479e-9ea7-729d486960fd",
   "metadata": {},
   "outputs": [
    {
     "data": {
      "text/plain": [
       "1.2"
      ]
     },
     "execution_count": 21,
     "metadata": {},
     "output_type": "execute_result"
    }
   ],
   "source": [
    "courier_rate = tariff.iloc[3,1]\n",
    "courier_rate # сохраним значение курьерской ставки за км в отдельную переменную"
   ]
  },
  {
   "cell_type": "markdown",
   "id": "dee2893c-c7b7-4d59-a64e-4be0da8ee434",
   "metadata": {},
   "source": [
    "- Пропишем функцию, которая будет агрегировать расстояние по клиенту, расчитает расходы поклиентно и общуюю сумму издержек:"
   ]
  },
  {
   "cell_type": "code",
   "execution_count": 22,
   "id": "9baa5b81-b277-4e41-a0d6-fbebf2708051",
   "metadata": {},
   "outputs": [],
   "source": [
    "def calc_cost(date1, date2, rate):\n",
    "    \n",
    "    dist_week = deliver.query('Week >= @date1 and Week <= @date2')\n",
    "    \n",
    "    dist_by_client = dist_week.groupby('Client').agg({'Distance': 'sum'}).reset_index()\n",
    "    \n",
    "    dist_by_client['Cost'] = dist_by_client['Distance'] * rate\n",
    "    \n",
    "    print(f'Общий объем издержек в период с {date1} по {date2}:', round(sum(dist_by_client['Cost']), 2), 'у.е.')\n",
    "    return sum(dist_by_client['Cost'])"
   ]
  },
  {
   "cell_type": "code",
   "execution_count": 23,
   "id": "c43f562d-c545-4190-abeb-d4e4199b399d",
   "metadata": {},
   "outputs": [
    {
     "name": "stdout",
     "output_type": "stream",
     "text": [
      "Общий объем издержек в период с 2023-03-13 по 2023-03-19: 1235.33 у.е.\n"
     ]
    }
   ],
   "source": [
    "cost_week1 = calc_cost('2023-03-13', '2023-03-19', courier_rate)"
   ]
  },
  {
   "cell_type": "code",
   "execution_count": 24,
   "id": "35b0fdf3-f5ee-4683-b886-974e70acdbb9",
   "metadata": {},
   "outputs": [
    {
     "name": "stdout",
     "output_type": "stream",
     "text": [
      "Общий объем издержек в период с 2023-03-20 по 2023-03-26: 1407.11 у.е.\n"
     ]
    }
   ],
   "source": [
    "cost_week2 = calc_cost('2023-03-20', '2023-03-26', courier_rate)"
   ]
  },
  {
   "cell_type": "markdown",
   "id": "3b64e9b7-d9c1-477d-b9d3-d77143f69eeb",
   "metadata": {},
   "source": [
    "#### 1.3 Расчет прибыли"
   ]
  },
  {
   "cell_type": "markdown",
   "id": "b6d9a78b-a4b6-4a84-8068-cdedf1715778",
   "metadata": {},
   "source": [
    "Вычтем из показателей выручки по неделям недельные издержки, чтобы получить прибыль за каждую из двух недель."
   ]
  },
  {
   "cell_type": "code",
   "execution_count": 25,
   "id": "156aa2e3-dc14-48f7-a015-bd39a57c4409",
   "metadata": {},
   "outputs": [
    {
     "name": "stdout",
     "output_type": "stream",
     "text": [
      "Итого прибыль за первую неделю (2023-03-13 - 2023-03-19): 1232.67 у.е.\n"
     ]
    }
   ],
   "source": [
    "profit_week1 = rev_week1 - cost_week1\n",
    "print('Итого прибыль за первую неделю (2023-03-13 - 2023-03-19):', round(profit_week1, 2), 'у.е.')"
   ]
  },
  {
   "cell_type": "code",
   "execution_count": 26,
   "id": "0970e969-f8f4-447a-a255-c724f883fd15",
   "metadata": {},
   "outputs": [
    {
     "name": "stdout",
     "output_type": "stream",
     "text": [
      "Итого прибыль за вторую неделю (2023-03-20 - 2023-03-26): 841.89 у.е.\n"
     ]
    }
   ],
   "source": [
    "profit_week2 = rev_week2 - cost_week2\n",
    "print('Итого прибыль за вторую неделю (2023-03-20 - 2023-03-26):', round(profit_week2, 2), 'у.е.')"
   ]
  },
  {
   "cell_type": "markdown",
   "id": "a45041c8-08d9-4b24-a1d1-4426d395a0f3",
   "metadata": {},
   "source": [
    "#### 1.4 Take rate (прибыль / выручку)"
   ]
  },
  {
   "cell_type": "markdown",
   "id": "de4fe294-b906-47e4-b9a8-7565c034f4ed",
   "metadata": {},
   "source": [
    "- Take rate для первой недели (13.03.23 - 19.03.23):"
   ]
  },
  {
   "cell_type": "code",
   "execution_count": 27,
   "id": "f6727582-0eb9-43ad-9eb2-2a90b2d92ca7",
   "metadata": {},
   "outputs": [
    {
     "name": "stdout",
     "output_type": "stream",
     "text": [
      "Take rate для периода с с 2023-03-13 по 2023-03-19: 0.499\n"
     ]
    }
   ],
   "source": [
    "take_rate_week1 = profit_week1 / rev_week1\n",
    "print(\"Take rate для периода с с 2023-03-13 по 2023-03-19:\", round(take_rate_week1, 3))"
   ]
  },
  {
   "cell_type": "markdown",
   "id": "d2418017-8c3a-487b-9e5b-18a4749593f1",
   "metadata": {},
   "source": [
    "- Take rate для второй недели (20.03.23 - 26.03.23):"
   ]
  },
  {
   "cell_type": "code",
   "execution_count": 28,
   "id": "0f145110-3c44-4a16-be77-3ed71edc24a3",
   "metadata": {},
   "outputs": [
    {
     "name": "stdout",
     "output_type": "stream",
     "text": [
      "Take rate для периода с 2023-03-20 по 2023-03-26: 0.374\n"
     ]
    }
   ],
   "source": [
    "take_rate_week2 = profit_week2 / rev_week2\n",
    "print(\"Take rate для периода с 2023-03-20 по 2023-03-26:\", round(take_rate_week2, 3))"
   ]
  },
  {
   "cell_type": "markdown",
   "id": "c9d95529-8f1b-4312-8c0c-eb2a62e79844",
   "metadata": {},
   "source": [
    "### 2. Как take rate изменился на прошлой неделе? Назовите 1-2 основных причины"
   ]
  },
  {
   "cell_type": "code",
   "execution_count": 29,
   "id": "136fdf4a-84ce-4e9f-a0f8-e4a73bc88658",
   "metadata": {},
   "outputs": [
    {
     "name": "stdout",
     "output_type": "stream",
     "text": [
      "По сравнению со второй неделей (с 2023-03-20 по 2023-03-26) на первой неделе take rate был выше на: 0.125\n"
     ]
    }
   ],
   "source": [
    "print('По сравнению со второй неделей (с 2023-03-20 по 2023-03-26) на первой неделе take rate был выше на:', round(take_rate_week1 - take_rate_week2, 3))"
   ]
  },
  {
   "cell_type": "markdown",
   "id": "500ac541-315d-4180-8846-97b297eea861",
   "metadata": {},
   "source": [
    "- *То есть на второй неделе take rate упал по сравнению с первой на 0.125*"
   ]
  },
  {
   "cell_type": "markdown",
   "id": "72b14a24-c51f-4661-a392-f36153520955",
   "metadata": {},
   "source": [
    "**Причины изменения take rate:**"
   ]
  },
  {
   "cell_type": "markdown",
   "id": "1e17ad2c-ece8-4cdd-ae2c-9306ec1b7d61",
   "metadata": {},
   "source": [
    "#### 2.1 Спад прибыли"
   ]
  },
  {
   "cell_type": "code",
   "execution_count": 30,
   "id": "1b6eef5f-dcc8-4cc8-94ee-d1edcc4862f1",
   "metadata": {},
   "outputs": [
    {
     "data": {
      "image/png": "[encoded data removed]",
      "text/plain": [
       "<Figure size 648x432 with 1 Axes>"
      ]
     },
     "metadata": {
      "needs_background": "light"
     },
     "output_type": "display_data"
    }
   ],
   "source": [
    "prof_df = pd.DataFrame({'Неделя': ['13.03.23 - 19.03.23', '20.03.23 - 26.03.23'],\n",
    "                       'Прибыль (у.е.)': [profit_week1, profit_week2]})\n",
    "\n",
    "fig, ax = plt.subplots()\n",
    "fig.set_size_inches(9, 6, forward=True)\n",
    "ax = sns.barplot(x='Неделя', y='Прибыль (у.е.)', data=prof_df, alpha=0.5)\n",
    "for i in ax.containers:\n",
    "    ax.bar_label(i,)\n",
    "sns.lineplot(x='Неделя', y='Прибыль (у.е.)', data=prof_df, marker='o', color='red')\n",
    "plt.title('Изменение прибыли за две недели')\n",
    "plt.show()"
   ]
  },
  {
   "cell_type": "markdown",
   "id": "e1d98a5c-03e9-41ce-9968-879fa172e2dd",
   "metadata": {},
   "source": [
    "- *Как видно на графике выше, на первой неделе прибыль от посылок была выше, по сравнению со второй неделей*"
   ]
  },
  {
   "cell_type": "code",
   "execution_count": 31,
   "id": "8eeff40b-f58d-4ddc-a3dc-f6fcbf5e4d81",
   "metadata": {},
   "outputs": [
    {
     "name": "stdout",
     "output_type": "stream",
     "text": [
      "На второй неделе (20.03.23 - 26.03.23) прибыль сократилась на: 390.78 у.е.\n"
     ]
    }
   ],
   "source": [
    "print(\"На второй неделе (20.03.23 - 26.03.23) прибыль сократилась на:\", round(profit_week1 - profit_week2, 2), 'у.е.')"
   ]
  },
  {
   "cell_type": "code",
   "execution_count": 32,
   "id": "12c60bbb-222e-457c-b3b1-8eb19d5e3903",
   "metadata": {},
   "outputs": [
    {
     "name": "stdout",
     "output_type": "stream",
     "text": [
      "Это сокращение на 31.7 % по сравнению с объемом прибыли на первой неделе (13.03.23 - 19.03.23)\n"
     ]
    }
   ],
   "source": [
    "print(\"Это сокращение на\", round((profit_week1 - profit_week2) / profit_week1 * 100, 2), '% по сравнению с объемом прибыли на первой неделе (13.03.23 - 19.03.23)')"
   ]
  },
  {
   "cell_type": "markdown",
   "id": "dfb3c07c-e0a8-485b-a552-9030c1283e68",
   "metadata": {},
   "source": [
    "- *Тем самым, спад показателя прибыли (на 31.7%) на второй неделе привел к снижению take rate на второй неделе (20.03.23 - 26.03.23)*\n",
    "- *Так как прибыль на первой неделе (13.03.23 - 19.03.23) была выше, то и take rate, соответственно, так же принимал более высокое значение*"
   ]
  },
  {
   "cell_type": "markdown",
   "id": "18ac5912-7be6-4836-95fe-80665662457b",
   "metadata": {},
   "source": [
    "#### 2.2 Снижение выручки"
   ]
  },
  {
   "cell_type": "code",
   "execution_count": 33,
   "id": "4423e13c-44e6-4441-bcb4-6052ae13bb54",
   "metadata": {},
   "outputs": [
    {
     "data": {
      "image/png": "[encoded data removed]",
      "text/plain": [
       "<Figure size 648x432 with 1 Axes>"
      ]
     },
     "metadata": {
      "needs_background": "light"
     },
     "output_type": "display_data"
    }
   ],
   "source": [
    "rev_df = pd.DataFrame({'Неделя': ['13.03.23 - 19.03.23', '20.03.23 - 26.03.23'],\n",
    "                       'Выручка (у.е.)': [rev_week1, rev_week2]})\n",
    "\n",
    "fig, ax = plt.subplots()\n",
    "fig.set_size_inches(9, 6, forward=True)\n",
    "ax = sns.barplot(x='Неделя', y='Выручка (у.е.)', data=rev_df, alpha=0.5)\n",
    "for i in ax.containers:\n",
    "    ax.bar_label(i,)\n",
    "sns.lineplot(x='Неделя', y='Выручка (у.е.)', data=rev_df, marker='o', color='red')\n",
    "plt.title('Изменение выручки за две недели')\n",
    "plt.show()"
   ]
  },
  {
   "cell_type": "markdown",
   "id": "f13956f0-b155-4e39-b5ab-69ee4a725461",
   "metadata": {},
   "source": [
    "- *Как видно на графике выше, на первой неделе выручка от посылок также была выше, по сравнению со второй неделей*"
   ]
  },
  {
   "cell_type": "code",
   "execution_count": 34,
   "id": "f45a8438-b08f-407c-a0a7-95c05f462090",
   "metadata": {},
   "outputs": [
    {
     "name": "stdout",
     "output_type": "stream",
     "text": [
      "На второй неделе (20.03.23 - 26.03.23) выручка сократилась на: 219.0 у.е.\n"
     ]
    }
   ],
   "source": [
    "print(\"На второй неделе (20.03.23 - 26.03.23) выручка сократилась на:\", rev_week1 - rev_week2, 'у.е.')"
   ]
  },
  {
   "cell_type": "code",
   "execution_count": 35,
   "id": "f70f02c4-6b46-44e3-b39a-d057dbc59687",
   "metadata": {},
   "outputs": [
    {
     "name": "stdout",
     "output_type": "stream",
     "text": [
      "Это сокращение на 8.87 % по сравнению с объемом выручки на первой неделе (13.03.23 - 19.03.23)\n"
     ]
    }
   ],
   "source": [
    "print(\"Это сокращение на\", round((rev_week1 - rev_week2) / rev_week1 * 100, 2), '% по сравнению с объемом выручки на первой неделе (13.03.23 - 19.03.23)')"
   ]
  },
  {
   "cell_type": "markdown",
   "id": "a250bdeb-646d-4d67-81a5-44087feb1276",
   "metadata": {},
   "source": [
    "#### 2.3 Увеличение издержек"
   ]
  },
  {
   "cell_type": "code",
   "execution_count": 36,
   "id": "a0988a04-5271-4eff-81e8-79e4dc969425",
   "metadata": {},
   "outputs": [
    {
     "data": {
      "image/png": "[encoded data removed]",
      "text/plain": [
       "<Figure size 648x432 with 1 Axes>"
      ]
     },
     "metadata": {
      "needs_background": "light"
     },
     "output_type": "display_data"
    }
   ],
   "source": [
    "cost_df = pd.DataFrame({'Неделя': ['13.03.23 - 19.03.23', '20.03.23 - 26.03.23'],\n",
    "                       'Издержки (у.е.)': [cost_week1, cost_week2]})\n",
    "\n",
    "fig, ax = plt.subplots()\n",
    "fig.set_size_inches(9, 6, forward=True)\n",
    "ax = sns.barplot(x='Неделя', y='Издержки (у.е.)', data=cost_df, alpha=0.5)\n",
    "for i in ax.containers:\n",
    "    ax.bar_label(i,)\n",
    "sns.lineplot(x='Неделя', y='Издержки (у.е.)', data=cost_df, marker='o', color='red')\n",
    "plt.title('Изменение издержек за две недели')\n",
    "plt.show()"
   ]
  },
  {
   "cell_type": "code",
   "execution_count": 37,
   "id": "f128c60c-eb65-4050-b8f4-4551d62e1ebb",
   "metadata": {},
   "outputs": [
    {
     "name": "stdout",
     "output_type": "stream",
     "text": [
      "На второй неделе (20.03.23 - 26.03.23) издержки увеличились на: 171.78 у.е.\n"
     ]
    }
   ],
   "source": [
    "print(\"На второй неделе (20.03.23 - 26.03.23) издержки увеличились на:\", round(cost_week2 - cost_week1, 2), 'у.е.')"
   ]
  },
  {
   "cell_type": "code",
   "execution_count": 38,
   "id": "7f9065d9-b743-4a0f-87e1-a8db0c94f285",
   "metadata": {},
   "outputs": [
    {
     "name": "stdout",
     "output_type": "stream",
     "text": [
      "Это увеличение на 13.91 % по сравнению с объемом издержек на первой неделе (13.03.23 - 19.03.23)\n"
     ]
    }
   ],
   "source": [
    "print(\"Это увеличение на\", round((cost_week2 - cost_week1) / cost_week1 * 100, 2), '% по сравнению с объемом издержек на первой неделе (13.03.23 - 19.03.23)')"
   ]
  },
  {
   "cell_type": "markdown",
   "id": "8d419db9-fd78-4111-bb28-5f8261eb6884",
   "metadata": {},
   "source": [
    "- *Как видно, снижение take rate связано со спадом недельного показателя выручки и прибыли.\n",
    "- *Для того, чтобы take rate не снижался, необходимо, чтобы недельные показатели издержек оставались на том же уровне или снижались.*\n",
    "- *Тогда при прежних объемах выручки (или при небольшом спаде), но при снижении издержек показатель прибыли выростет. В результате take rate также возрастет.*\n",
    "- *С другой стороны, при сохранении прежних объемов издержек, можно увеличить показатель прибыли, повысив выручку с посылок клиентам. Например, можно увеличить, тарифные ставки. Тогда показатель прибыли вырастет, как и take rate, соответсвенно.*"
   ]
  },
  {
   "cell_type": "markdown",
   "id": "93e82ff6-203e-4f90-9c93-281f98a43299",
   "metadata": {},
   "source": [
    "### 3. Предложите несколько вариантов иннициатив, включающие изменение курьерских тарифов и/или изменение клиентских тарифов, которые позволят вернуться на изначальный уровень take rate "
   ]
  },
  {
   "cell_type": "markdown",
   "id": "697ed6b9-5cdf-47ba-b704-742466831387",
   "metadata": {},
   "source": [
    "#### 3.1 Сценарий снижения курьерских тарифов при сохранении показателей выручки и прибыли в период 20.03.23 - 26.03.23"
   ]
  },
  {
   "cell_type": "markdown",
   "id": "0a4a8c52-6a2c-4538-b4d6-16c751c0e10a",
   "metadata": {},
   "source": [
    "- Какие значения курьерских тарифов нужны, для того, чтобы take rate вышел на уровень первой недели (13.03.23 - 19.03.23) или выше? "
   ]
  },
  {
   "cell_type": "code",
   "execution_count": 39,
   "id": "e75e18e0-daa5-4054-80bf-d6614db4503c",
   "metadata": {},
   "outputs": [
    {
     "data": {
      "text/plain": [
       "1.2"
      ]
     },
     "execution_count": 39,
     "metadata": {},
     "output_type": "execute_result"
    }
   ],
   "source": [
    "courier_rate # изначальный курьерский тариф"
   ]
  },
  {
   "cell_type": "markdown",
   "id": "e234a59a-c4a7-43fb-80a2-9c27edeaaca7",
   "metadata": {},
   "source": [
    "Создадим список с поэтапным снижением курьерского тарифа на 0.1:"
   ]
  },
  {
   "cell_type": "code",
   "execution_count": 40,
   "id": "1f8536cb-bb72-46db-a0f1-57131dd6a934",
   "metadata": {},
   "outputs": [
    {
     "data": {
      "text/plain": [
       "[1.1, 1.0, 0.9, 0.8, 0.7, 0.6, 0.5, 0.4, 0.3, 0.2]"
      ]
     },
     "execution_count": 40,
     "metadata": {},
     "output_type": "execute_result"
    }
   ],
   "source": [
    "courier_rate_list = [round(courier_rate - x * 0.1, 1) for x in range(1, 11)]\n",
    "courier_rate_list"
   ]
  },
  {
   "cell_type": "markdown",
   "id": "bcf3c051-43dc-4adb-8c8f-dd0b50a99470",
   "metadata": {},
   "source": [
    "Заново создадим фрейм со значениями издержек по клиентам при изначальной курьерской ставки:"
   ]
  },
  {
   "cell_type": "code",
   "execution_count": 41,
   "id": "a5fd3e8b-67f9-4102-a3c2-4392ff45615b",
   "metadata": {},
   "outputs": [
    {
     "data": {
      "text/html": [
       "<div>\n",
       "<style scoped>\n",
       "    .dataframe tbody tr th:only-of-type {\n",
       "        vertical-align: middle;\n",
       "    }\n",
       "\n",
       "    .dataframe tbody tr th {\n",
       "        vertical-align: top;\n",
       "    }\n",
       "\n",
       "    .dataframe thead th {\n",
       "        text-align: right;\n",
       "    }\n",
       "</style>\n",
       "<table border=\"1\" class=\"dataframe\">\n",
       "  <thead>\n",
       "    <tr style=\"text-align: right;\">\n",
       "      <th></th>\n",
       "      <th>Client</th>\n",
       "      <th>Distance</th>\n",
       "      <th>Cost</th>\n",
       "    </tr>\n",
       "  </thead>\n",
       "  <tbody>\n",
       "    <tr>\n",
       "      <th>0</th>\n",
       "      <td>А</td>\n",
       "      <td>636.341028</td>\n",
       "      <td>763.609234</td>\n",
       "    </tr>\n",
       "    <tr>\n",
       "      <th>1</th>\n",
       "      <td>Б</td>\n",
       "      <td>437.464589</td>\n",
       "      <td>524.957507</td>\n",
       "    </tr>\n",
       "    <tr>\n",
       "      <th>2</th>\n",
       "      <td>С</td>\n",
       "      <td>98.785313</td>\n",
       "      <td>118.542376</td>\n",
       "    </tr>\n",
       "  </tbody>\n",
       "</table>\n",
       "</div>"
      ],
      "text/plain": [
       "  Client    Distance        Cost\n",
       "0      А  636.341028  763.609234\n",
       "1      Б  437.464589  524.957507\n",
       "2      С   98.785313  118.542376"
      ]
     },
     "execution_count": 41,
     "metadata": {},
     "output_type": "execute_result"
    }
   ],
   "source": [
    "dist_week2 = deliver.query('Week >= \"2023-03-20\" and Week <= \"2023-03-26\"')\n",
    "dist_by_client = dist_week2.groupby('Client').agg({'Distance': 'sum'}).reset_index()  \n",
    "dist_by_client['Cost'] = dist_by_client['Distance'] * courier_rate\n",
    "dist_by_client"
   ]
  },
  {
   "cell_type": "markdown",
   "id": "0e758de4-1995-4324-9f20-b9195aa96104",
   "metadata": {},
   "source": [
    "Создадим цикл, который будет создавать новые колонки рассчитанных значений издержек при постепенном снижении курьерской ставки от -0.1 до -1.0:"
   ]
  },
  {
   "cell_type": "code",
   "execution_count": 42,
   "id": "e04da23c-8fa5-4a79-8749-1d559077084b",
   "metadata": {},
   "outputs": [],
   "source": [
    "for i in range(len(courier_rate_list)):\n",
    "    column_name = 'Cost_minus_{}'.format(round((i/10)+0.1, 1))\n",
    "    dist_by_client[column_name] = dist_by_client['Distance'] * courier_rate_list[i]\n",
    "\n",
    "if 'Cost_minus_0.0' in dist_by_client.columns:\n",
    "    dist_by_client = dist_by_client.rename(columns={'Cost_minus_0.0': 'Cost_minus_0.1'})"
   ]
  },
  {
   "cell_type": "code",
   "execution_count": 43,
   "id": "777abcbc-48f6-49ed-ae35-f365bbd1e8c6",
   "metadata": {},
   "outputs": [
    {
     "data": {
      "text/html": [
       "<div>\n",
       "<style scoped>\n",
       "    .dataframe tbody tr th:only-of-type {\n",
       "        vertical-align: middle;\n",
       "    }\n",
       "\n",
       "    .dataframe tbody tr th {\n",
       "        vertical-align: top;\n",
       "    }\n",
       "\n",
       "    .dataframe thead th {\n",
       "        text-align: right;\n",
       "    }\n",
       "</style>\n",
       "<table border=\"1\" class=\"dataframe\">\n",
       "  <thead>\n",
       "    <tr style=\"text-align: right;\">\n",
       "      <th></th>\n",
       "      <th>Client</th>\n",
       "      <th>Distance</th>\n",
       "      <th>Cost</th>\n",
       "      <th>Cost_minus_0.1</th>\n",
       "      <th>Cost_minus_0.2</th>\n",
       "      <th>Cost_minus_0.3</th>\n",
       "      <th>Cost_minus_0.4</th>\n",
       "      <th>Cost_minus_0.5</th>\n",
       "      <th>Cost_minus_0.6</th>\n",
       "      <th>Cost_minus_0.7</th>\n",
       "      <th>Cost_minus_0.8</th>\n",
       "      <th>Cost_minus_0.9</th>\n",
       "      <th>Cost_minus_1.0</th>\n",
       "    </tr>\n",
       "  </thead>\n",
       "  <tbody>\n",
       "    <tr>\n",
       "      <th>0</th>\n",
       "      <td>А</td>\n",
       "      <td>636.341028</td>\n",
       "      <td>763.609234</td>\n",
       "      <td>699.975131</td>\n",
       "      <td>636.341028</td>\n",
       "      <td>572.706926</td>\n",
       "      <td>509.072823</td>\n",
       "      <td>445.438720</td>\n",
       "      <td>381.804617</td>\n",
       "      <td>318.170514</td>\n",
       "      <td>254.536411</td>\n",
       "      <td>190.902309</td>\n",
       "      <td>127.268206</td>\n",
       "    </tr>\n",
       "    <tr>\n",
       "      <th>1</th>\n",
       "      <td>Б</td>\n",
       "      <td>437.464589</td>\n",
       "      <td>524.957507</td>\n",
       "      <td>481.211048</td>\n",
       "      <td>437.464589</td>\n",
       "      <td>393.718130</td>\n",
       "      <td>349.971671</td>\n",
       "      <td>306.225212</td>\n",
       "      <td>262.478753</td>\n",
       "      <td>218.732295</td>\n",
       "      <td>174.985836</td>\n",
       "      <td>131.239377</td>\n",
       "      <td>87.492918</td>\n",
       "    </tr>\n",
       "    <tr>\n",
       "      <th>2</th>\n",
       "      <td>С</td>\n",
       "      <td>98.785313</td>\n",
       "      <td>118.542376</td>\n",
       "      <td>108.663844</td>\n",
       "      <td>98.785313</td>\n",
       "      <td>88.906782</td>\n",
       "      <td>79.028251</td>\n",
       "      <td>69.149719</td>\n",
       "      <td>59.271188</td>\n",
       "      <td>49.392657</td>\n",
       "      <td>39.514125</td>\n",
       "      <td>29.635594</td>\n",
       "      <td>19.757063</td>\n",
       "    </tr>\n",
       "  </tbody>\n",
       "</table>\n",
       "</div>"
      ],
      "text/plain": [
       "  Client    Distance        Cost  Cost_minus_0.1  Cost_minus_0.2  \\\n",
       "0      А  636.341028  763.609234      699.975131      636.341028   \n",
       "1      Б  437.464589  524.957507      481.211048      437.464589   \n",
       "2      С   98.785313  118.542376      108.663844       98.785313   \n",
       "\n",
       "   Cost_minus_0.3  Cost_minus_0.4  Cost_minus_0.5  Cost_minus_0.6  \\\n",
       "0      572.706926      509.072823      445.438720      381.804617   \n",
       "1      393.718130      349.971671      306.225212      262.478753   \n",
       "2       88.906782       79.028251       69.149719       59.271188   \n",
       "\n",
       "   Cost_minus_0.7  Cost_minus_0.8  Cost_minus_0.9  Cost_minus_1.0  \n",
       "0      318.170514      254.536411      190.902309      127.268206  \n",
       "1      218.732295      174.985836      131.239377       87.492918  \n",
       "2       49.392657       39.514125       29.635594       19.757063  "
      ]
     },
     "execution_count": 43,
     "metadata": {},
     "output_type": "execute_result"
    }
   ],
   "source": [
    "dist_by_client"
   ]
  },
  {
   "cell_type": "markdown",
   "id": "7c939cee-3cee-4525-a1d2-03885211532c",
   "metadata": {},
   "source": [
    "Теперь для каждого случая снижения курьерской ставки подсчитаем сумму расходов по клиентам.\n",
    "\n",
    "Для этого создадим список с новыми суммами расходов:"
   ]
  },
  {
   "cell_type": "code",
   "execution_count": 44,
   "id": "60aaaf01-edc0-4f9f-97eb-b61b2d767de3",
   "metadata": {},
   "outputs": [
    {
     "data": {
      "text/plain": [
       "[1289.850023713017,\n",
       " 1172.5909306481974,\n",
       " 1055.3318375833776,\n",
       " 938.0727445185579,\n",
       " 820.813651453738,\n",
       " 703.5545583889184,\n",
       " 586.2954653240987,\n",
       " 469.03637225927895,\n",
       " 351.7772791944592,\n",
       " 234.51818612963947]"
      ]
     },
     "execution_count": 44,
     "metadata": {},
     "output_type": "execute_result"
    }
   ],
   "source": [
    "cost_with_rates = [dist_by_client[column].sum() for column in dist_by_client.columns if column.startswith('Cost_minus_')]\n",
    "cost_with_rates"
   ]
  },
  {
   "cell_type": "markdown",
   "id": "a70f126f-22f2-43f8-8e0c-acdb56e441e6",
   "metadata": {},
   "source": [
    "Сохраним значение то же значение выручки для второй недели (20.03.23 - 26.03.23): "
   ]
  },
  {
   "cell_type": "code",
   "execution_count": 45,
   "id": "84b52475-e3fd-49fe-a16c-bbc3bac621b7",
   "metadata": {},
   "outputs": [
    {
     "data": {
      "text/plain": [
       "2249.0"
      ]
     },
     "execution_count": 45,
     "metadata": {},
     "output_type": "execute_result"
    }
   ],
   "source": [
    "rev_week2 "
   ]
  },
  {
   "cell_type": "markdown",
   "id": "842e2ba4-d1ef-491c-92b8-acc74e5c4f3e",
   "metadata": {},
   "source": [
    "Вычислин новые значения прибыли для сценария снижения издержек:"
   ]
  },
  {
   "cell_type": "code",
   "execution_count": 46,
   "id": "b6b37a67-be06-4f13-a650-d10f0ad9324e",
   "metadata": {},
   "outputs": [
    {
     "data": {
      "text/plain": [
       "[959.149976286983,\n",
       " 1076.4090693518026,\n",
       " 1193.6681624166224,\n",
       " 1310.927255481442,\n",
       " 1428.186348546262,\n",
       " 1545.4454416110816,\n",
       " 1662.7045346759014,\n",
       " 1779.963627740721,\n",
       " 1897.2227208055408,\n",
       " 2014.4818138703606]"
      ]
     },
     "execution_count": 46,
     "metadata": {},
     "output_type": "execute_result"
    }
   ],
   "source": [
    "prof_new = [rev_week2 - i for i in cost_with_rates]\n",
    "prof_new"
   ]
  },
  {
   "cell_type": "markdown",
   "id": "6d4a3216-2114-4c9b-b7d2-4721018eecd1",
   "metadata": {},
   "source": [
    "Теперь рассчитаем новые значения take rate при условии сохранения изначального объема выручки:"
   ]
  },
  {
   "cell_type": "code",
   "execution_count": 47,
   "id": "ff18c76a-efd5-49c7-bf43-3f1b9fef7bfd",
   "metadata": {},
   "outputs": [
    {
     "data": {
      "text/plain": [
       "[0.426478424316133,\n",
       " 0.4786167493783026,\n",
       " 0.5307550744404724,\n",
       " 0.5828933995026421,\n",
       " 0.6350317245648119,\n",
       " 0.6871700496269816,\n",
       " 0.7393083746891513,\n",
       " 0.791446699751321,\n",
       " 0.8435850248134908,\n",
       " 0.8957233498756606]"
      ]
     },
     "execution_count": 47,
     "metadata": {},
     "output_type": "execute_result"
    }
   ],
   "source": [
    "take_rate_new = [i / rev_week2 for i in prof_new]\n",
    "take_rate_new"
   ]
  },
  {
   "cell_type": "markdown",
   "id": "f1af9c4d-791d-4d40-9110-6f14cbac0506",
   "metadata": {},
   "source": [
    "Добавим изначальный уровень take rate в начало списка:"
   ]
  },
  {
   "cell_type": "code",
   "execution_count": 48,
   "id": "950607e4-2d5c-44dd-ad01-48b7c141d238",
   "metadata": {},
   "outputs": [],
   "source": [
    "take_rate_new = [take_rate_week2] + take_rate_new"
   ]
  },
  {
   "cell_type": "code",
   "execution_count": 49,
   "id": "87d38e5d-ea51-4b70-9480-20026cf68a72",
   "metadata": {},
   "outputs": [
    {
     "data": {
      "text/html": [
       "<div>\n",
       "<style scoped>\n",
       "    .dataframe tbody tr th:only-of-type {\n",
       "        vertical-align: middle;\n",
       "    }\n",
       "\n",
       "    .dataframe tbody tr th {\n",
       "        vertical-align: top;\n",
       "    }\n",
       "\n",
       "    .dataframe thead th {\n",
       "        text-align: right;\n",
       "    }\n",
       "</style>\n",
       "<table border=\"1\" class=\"dataframe\">\n",
       "  <thead>\n",
       "    <tr style=\"text-align: right;\">\n",
       "      <th></th>\n",
       "      <th>Курьерские тарифы</th>\n",
       "      <th>Take rate</th>\n",
       "    </tr>\n",
       "  </thead>\n",
       "  <tbody>\n",
       "    <tr>\n",
       "      <th>0</th>\n",
       "      <td>Изначальный курьерский тариф</td>\n",
       "      <td>0.37</td>\n",
       "    </tr>\n",
       "    <tr>\n",
       "      <th>1</th>\n",
       "      <td>Курьерский тариф - 0.1</td>\n",
       "      <td>0.43</td>\n",
       "    </tr>\n",
       "    <tr>\n",
       "      <th>2</th>\n",
       "      <td>Курьерский тариф - 0.2</td>\n",
       "      <td>0.48</td>\n",
       "    </tr>\n",
       "    <tr>\n",
       "      <th>3</th>\n",
       "      <td>Курьерский тариф - 0.3</td>\n",
       "      <td>0.53</td>\n",
       "    </tr>\n",
       "    <tr>\n",
       "      <th>4</th>\n",
       "      <td>Курьерский тариф - 0.4</td>\n",
       "      <td>0.58</td>\n",
       "    </tr>\n",
       "    <tr>\n",
       "      <th>5</th>\n",
       "      <td>Курьерский тариф - 0.5</td>\n",
       "      <td>0.64</td>\n",
       "    </tr>\n",
       "    <tr>\n",
       "      <th>6</th>\n",
       "      <td>Курьерский тариф - 0.6</td>\n",
       "      <td>0.69</td>\n",
       "    </tr>\n",
       "    <tr>\n",
       "      <th>7</th>\n",
       "      <td>Курьерский тариф - 0.7</td>\n",
       "      <td>0.74</td>\n",
       "    </tr>\n",
       "    <tr>\n",
       "      <th>8</th>\n",
       "      <td>Курьерский тариф - 0.8</td>\n",
       "      <td>0.79</td>\n",
       "    </tr>\n",
       "    <tr>\n",
       "      <th>9</th>\n",
       "      <td>Курьерский тариф - 0.9</td>\n",
       "      <td>0.84</td>\n",
       "    </tr>\n",
       "    <tr>\n",
       "      <th>10</th>\n",
       "      <td>Курьерский тариф - 1.0</td>\n",
       "      <td>0.90</td>\n",
       "    </tr>\n",
       "  </tbody>\n",
       "</table>\n",
       "</div>"
      ],
      "text/plain": [
       "               Курьерские тарифы  Take rate\n",
       "0   Изначальный курьерский тариф       0.37\n",
       "1         Курьерский тариф - 0.1       0.43\n",
       "2         Курьерский тариф - 0.2       0.48\n",
       "3         Курьерский тариф - 0.3       0.53\n",
       "4         Курьерский тариф - 0.4       0.58\n",
       "5         Курьерский тариф - 0.5       0.64\n",
       "6         Курьерский тариф - 0.6       0.69\n",
       "7         Курьерский тариф - 0.7       0.74\n",
       "8         Курьерский тариф - 0.8       0.79\n",
       "9         Курьерский тариф - 0.9       0.84\n",
       "10        Курьерский тариф - 1.0       0.90"
      ]
     },
     "execution_count": 49,
     "metadata": {},
     "output_type": "execute_result"
    }
   ],
   "source": [
    "courier_tariffs = ['Изначальный курьерский тариф', \n",
    "                   'Курьерский тариф - 0.1',\n",
    "                   'Курьерский тариф - 0.2',\n",
    "                   'Курьерский тариф - 0.3',\n",
    "                   'Курьерский тариф - 0.4', \n",
    "                   'Курьерский тариф - 0.5', \n",
    "                   'Курьерский тариф - 0.6', \n",
    "                   'Курьерский тариф - 0.7', \n",
    "                   'Курьерский тариф - 0.8', \n",
    "                   'Курьерский тариф - 0.9', \n",
    "                   'Курьерский тариф - 1.0']\n",
    "\n",
    "take_rate_tariffs_df = pd.DataFrame({'Курьерские тарифы': courier_tariffs, 'Take rate': take_rate_new})\n",
    "take_rate_tariffs_df['Take rate'] = take_rate_tariffs_df['Take rate'].apply(lambda x: round(x, 2))\n",
    "take_rate_tariffs_df"
   ]
  },
  {
   "cell_type": "code",
   "execution_count": 50,
   "id": "960232b5-f63f-416e-bf4d-9804d4e43bbd",
   "metadata": {},
   "outputs": [
    {
     "data": {
      "image/png": "[encoded data removed]",
      "text/plain": [
       "<Figure size 1224x720 with 1 Axes>"
      ]
     },
     "metadata": {
      "needs_background": "light"
     },
     "output_type": "display_data"
    }
   ],
   "source": [
    "fig, ax = plt.subplots()\n",
    "fig.set_size_inches(17, 10, forward=True)\n",
    "ax = sns.barplot(x='Курьерские тарифы', y='Take rate', data=take_rate_tariffs_df, alpha=0.5, color='lightblue')\n",
    "for i in ax.containers:\n",
    "    ax.bar_label(i, padding=12)\n",
    "sns.lineplot(x='Курьерские тарифы', y='Take rate', data=take_rate_tariffs_df, marker='o', color='red', alpha=.5)\n",
    "plt.axhline(y = take_rate_week1, color = 'b', linestyle = ':', label=\"Изначальный take rate\")\n",
    "plt.title('Изменение take rate при постепенном снижении курьерского тарифа на 0.1\\n (при сохранении объема выручки на вторую неделю)')\n",
    "plt.legend(bbox_to_anchor =(1, 0.56))\n",
    "plt.xticks(rotation = 45)\n",
    "plt.setp(ax.xaxis.get_majorticklabels(), ha='right')\n",
    "plt.rc('font', size=13)\n",
    "plt.show()"
   ]
  },
  {
   "cell_type": "markdown",
   "id": "325098db-fc87-4ed4-88a7-c02c67a3f034",
   "metadata": {},
   "source": [
    "- *Как видно из графика выше, при поэтапном снижении курьерского тарифа за 1 км на 0.1, take rate постоянно возрастает*.\n",
    "- *Это происходит потому, что издержки снижаются, и даже при прежнем объеме выручке (актуальном на вторую неделю с 20.03.23 - 26.03.23), прибыль растет*.\n",
    "- *Так как прибыль растет, а выручка остается на том же уровне, take rate увеличивается с каждым снижением курьерской ставки на 0.1*\n",
    "- *Тем самым, при снижении курьерской ставки, начиная от 0.3, take rate для второй недели не даже немного превышает аналогичный показатель для первой недеои (13.03.23 - 19.03.23) при сохранении объема выручки в 2249 у.е.*"
   ]
  },
  {
   "cell_type": "markdown",
   "id": "e1ac1623-381a-4bce-9bee-c0363de6cc2e",
   "metadata": {},
   "source": [
    "#### 3.1.1 **Вычислим точное значение курьерского тарифа, чтобы выйти на уровень take rate первой недели**"
   ]
  },
  {
   "cell_type": "markdown",
   "id": "602a2780-688f-49eb-8771-f706104eb7ec",
   "metadata": {},
   "source": [
    "Решим уравнение. В качестве *х* обозначим такой курьерский тариф за 1 км, что при прежнем объеме выручки за вторую неделю (20.03.23 - 26.03.23) take rate за вторую неделю выйдет на take rate первой недели:"
   ]
  },
  {
   "cell_type": "code",
   "execution_count": 51,
   "id": "f1546941-a2f6-4c91-8bcf-7194dd259b74",
   "metadata": {},
   "outputs": [
    {
     "data": {
      "text/html": [
       "<div>\n",
       "<style scoped>\n",
       "    .dataframe tbody tr th:only-of-type {\n",
       "        vertical-align: middle;\n",
       "    }\n",
       "\n",
       "    .dataframe tbody tr th {\n",
       "        vertical-align: top;\n",
       "    }\n",
       "\n",
       "    .dataframe thead th {\n",
       "        text-align: right;\n",
       "    }\n",
       "</style>\n",
       "<table border=\"1\" class=\"dataframe\">\n",
       "  <thead>\n",
       "    <tr style=\"text-align: right;\">\n",
       "      <th></th>\n",
       "      <th>Client</th>\n",
       "      <th>Distance</th>\n",
       "      <th>Cost</th>\n",
       "      <th>Cost_minus_0.1</th>\n",
       "      <th>Cost_minus_0.2</th>\n",
       "      <th>Cost_minus_0.3</th>\n",
       "      <th>Cost_minus_0.4</th>\n",
       "      <th>Cost_minus_0.5</th>\n",
       "      <th>Cost_minus_0.6</th>\n",
       "      <th>Cost_minus_0.7</th>\n",
       "      <th>Cost_minus_0.8</th>\n",
       "      <th>Cost_minus_0.9</th>\n",
       "      <th>Cost_minus_1.0</th>\n",
       "    </tr>\n",
       "  </thead>\n",
       "  <tbody>\n",
       "    <tr>\n",
       "      <th>0</th>\n",
       "      <td>А</td>\n",
       "      <td>636.341028</td>\n",
       "      <td>763.609234</td>\n",
       "      <td>699.975131</td>\n",
       "      <td>636.341028</td>\n",
       "      <td>572.706926</td>\n",
       "      <td>509.072823</td>\n",
       "      <td>445.438720</td>\n",
       "      <td>381.804617</td>\n",
       "      <td>318.170514</td>\n",
       "      <td>254.536411</td>\n",
       "      <td>190.902309</td>\n",
       "      <td>127.268206</td>\n",
       "    </tr>\n",
       "    <tr>\n",
       "      <th>1</th>\n",
       "      <td>Б</td>\n",
       "      <td>437.464589</td>\n",
       "      <td>524.957507</td>\n",
       "      <td>481.211048</td>\n",
       "      <td>437.464589</td>\n",
       "      <td>393.718130</td>\n",
       "      <td>349.971671</td>\n",
       "      <td>306.225212</td>\n",
       "      <td>262.478753</td>\n",
       "      <td>218.732295</td>\n",
       "      <td>174.985836</td>\n",
       "      <td>131.239377</td>\n",
       "      <td>87.492918</td>\n",
       "    </tr>\n",
       "    <tr>\n",
       "      <th>2</th>\n",
       "      <td>С</td>\n",
       "      <td>98.785313</td>\n",
       "      <td>118.542376</td>\n",
       "      <td>108.663844</td>\n",
       "      <td>98.785313</td>\n",
       "      <td>88.906782</td>\n",
       "      <td>79.028251</td>\n",
       "      <td>69.149719</td>\n",
       "      <td>59.271188</td>\n",
       "      <td>49.392657</td>\n",
       "      <td>39.514125</td>\n",
       "      <td>29.635594</td>\n",
       "      <td>19.757063</td>\n",
       "    </tr>\n",
       "  </tbody>\n",
       "</table>\n",
       "</div>"
      ],
      "text/plain": [
       "  Client    Distance        Cost  Cost_minus_0.1  Cost_minus_0.2  \\\n",
       "0      А  636.341028  763.609234      699.975131      636.341028   \n",
       "1      Б  437.464589  524.957507      481.211048      437.464589   \n",
       "2      С   98.785313  118.542376      108.663844       98.785313   \n",
       "\n",
       "   Cost_minus_0.3  Cost_minus_0.4  Cost_minus_0.5  Cost_minus_0.6  \\\n",
       "0      572.706926      509.072823      445.438720      381.804617   \n",
       "1      393.718130      349.971671      306.225212      262.478753   \n",
       "2       88.906782       79.028251       69.149719       59.271188   \n",
       "\n",
       "   Cost_minus_0.7  Cost_minus_0.8  Cost_minus_0.9  Cost_minus_1.0  \n",
       "0      318.170514      254.536411      190.902309      127.268206  \n",
       "1      218.732295      174.985836      131.239377       87.492918  \n",
       "2       49.392657       39.514125       29.635594       19.757063  "
      ]
     },
     "execution_count": 51,
     "metadata": {},
     "output_type": "execute_result"
    }
   ],
   "source": [
    "dist_by_client"
   ]
  },
  {
   "cell_type": "code",
   "execution_count": 52,
   "id": "4a26370a-b80b-4c74-8256-6426a1d7dfd9",
   "metadata": {},
   "outputs": [
    {
     "name": "stdout",
     "output_type": "stream",
     "text": [
      "Необходиая курьерская ставка для достижения прежнего показателя take rate: 0.96\n",
      "Необходиая сократить курьерская ставку на: 0.24\n"
     ]
    }
   ],
   "source": [
    "x = symbols('x')\n",
    "equation = Eq((rev_week2 - (dist_by_client.loc[0]['Distance'] * x + dist_by_client.loc[1]['Distance'] * x + dist_by_client.loc[2]['Distance'] * x)) / \n",
    "              rev_week2, take_rate_week1)\n",
    "solution = solve(equation, x)\n",
    "\n",
    "print('Необходиая курьерская ставка для достижения прежнего показателя take rate:', round(solution[0], 2))\n",
    "print('Необходиая сократить курьерская ставку на:', round(courier_rate - solution[0], 2))"
   ]
  },
  {
   "cell_type": "markdown",
   "id": "c2aa24db-e569-4c83-8d0a-4064ae77fdb6",
   "metadata": {},
   "source": [
    "- **Тем самым, для достижения показателя take rate первой недели, необходимо сократить курьерску ставку на 0.24, то есть установить курьерскую ставку в 0.96**\n",
    "- При дальнейшем сокращении курьерской ставки take rate для второй недели начнет превышать take rate для первой недели."
   ]
  },
  {
   "cell_type": "markdown",
   "id": "ea661f91-19b6-42cf-ad45-ab6342ab4cf1",
   "metadata": {},
   "source": [
    "#### 3.2 Сценарий повышения клиентских тарифов при сохранении объема издержек в период 20.03.23 - 26.03.23"
   ]
  },
  {
   "cell_type": "code",
   "execution_count": 53,
   "id": "e2218314-ac77-4818-934d-1711184bfd76",
   "metadata": {},
   "outputs": [
    {
     "data": {
      "text/html": [
       "<div>\n",
       "<style scoped>\n",
       "    .dataframe tbody tr th:only-of-type {\n",
       "        vertical-align: middle;\n",
       "    }\n",
       "\n",
       "    .dataframe tbody tr th {\n",
       "        vertical-align: top;\n",
       "    }\n",
       "\n",
       "    .dataframe thead th {\n",
       "        text-align: right;\n",
       "    }\n",
       "</style>\n",
       "<table border=\"1\" class=\"dataframe\">\n",
       "  <thead>\n",
       "    <tr style=\"text-align: right;\">\n",
       "      <th></th>\n",
       "      <th>Client</th>\n",
       "      <th>Num_of_parcels</th>\n",
       "      <th>Tariff_rate</th>\n",
       "      <th>Revenue</th>\n",
       "    </tr>\n",
       "  </thead>\n",
       "  <tbody>\n",
       "    <tr>\n",
       "      <th>0</th>\n",
       "      <td>А</td>\n",
       "      <td>191</td>\n",
       "      <td>5.0</td>\n",
       "      <td>955.0</td>\n",
       "    </tr>\n",
       "    <tr>\n",
       "      <th>1</th>\n",
       "      <td>Б</td>\n",
       "      <td>161</td>\n",
       "      <td>6.0</td>\n",
       "      <td>966.0</td>\n",
       "    </tr>\n",
       "    <tr>\n",
       "      <th>2</th>\n",
       "      <td>С</td>\n",
       "      <td>41</td>\n",
       "      <td>8.0</td>\n",
       "      <td>328.0</td>\n",
       "    </tr>\n",
       "  </tbody>\n",
       "</table>\n",
       "</div>"
      ],
      "text/plain": [
       "  Client  Num_of_parcels  Tariff_rate  Revenue\n",
       "0      А             191          5.0    955.0\n",
       "1      Б             161          6.0    966.0\n",
       "2      С              41          8.0    328.0"
      ]
     },
     "execution_count": 53,
     "metadata": {},
     "output_type": "execute_result"
    }
   ],
   "source": [
    "deliver_week2 = deliver.query('Week >= \"2023-03-20\" and Week <= \"2023-03-26\"')\n",
    "count_by_client = deliver_week2.groupby('Client').agg({'Num_of_parcels': 'sum'}).reset_index()\n",
    "count_by_client_tariff = pd.merge(count_by_client, tariff, on='Client')\n",
    "count_by_client_tariff['Revenue'] = count_by_client_tariff['Num_of_parcels'] * count_by_client_tariff['Tariff_rate']\n",
    "count_by_client_tariff"
   ]
  },
  {
   "cell_type": "markdown",
   "id": "d7a4bb1e-0ff9-4bfc-8816-003367be0d7b",
   "metadata": {},
   "source": [
    "Теперь нужно найти оптимальный размер клиентского тарифа так, чтобы увеличенный объем выручки также повысил прибыль при сохранении исходного объема расходов для второй недели. Увеличенный размер прибыли за вторую неделю за счет оптимального клиентского тарифа должнен вывести take rate второй недели на уровень первой."
   ]
  },
  {
   "cell_type": "markdown",
   "id": "42cc00e9-a7e8-4aff-93e8-1145c6ca4464",
   "metadata": {},
   "source": [
    "Решим уравнение, обозначив в качестве *х* оптимальный размер тарифа для каждого клиента А, Б и С соответсвенно:"
   ]
  },
  {
   "cell_type": "code",
   "execution_count": 54,
   "id": "7536e84f-47bd-4ff9-aed5-c337f3ef5ed3",
   "metadata": {},
   "outputs": [
    {
     "name": "stdout",
     "output_type": "stream",
     "text": [
      "Необходиая клиентский тариф для достижения прежнего показателя take rate: 7.15\n"
     ]
    }
   ],
   "source": [
    "x = symbols('x')\n",
    "\n",
    "equation = Eq(((count_by_client_tariff.loc[0]['Num_of_parcels'] * x + count_by_client_tariff.loc[1]['Num_of_parcels'] * x + count_by_client_tariff.loc[2]['Num_of_parcels'] * x) - cost_week2) /\n",
    "              (count_by_client_tariff.loc[0]['Num_of_parcels'] * x + count_by_client_tariff.loc[1]['Num_of_parcels'] * x + count_by_client_tariff.loc[2]['Num_of_parcels'] * x), take_rate_week1)\n",
    "\n",
    "solution = solve(equation, [x])\n",
    "print('Необходиая клиентский тариф для достижения прежнего показателя take rate:', round(solution[0], 2))"
   ]
  },
  {
   "cell_type": "markdown",
   "id": "129cee30-ffbc-4811-90e3-e17fda4e559b",
   "metadata": {},
   "source": [
    "- **Тем самым, при установке одного клиентского установка клиентского тарифа для каждого клиента в минимальном размере от 7.15 выведет take rate второй недели на уровень перой**\n",
    "- **В этом сценарии не нужно сокращать расходы на доставки, снижая курьерский тариф**"
   ]
  },
  {
   "cell_type": "markdown",
   "id": "6198ef6d-3ac1-4987-aa96-8b4161f8370b",
   "metadata": {},
   "source": [
    "### 4. Распишите какие шаги могут сопутствовать иннициативам из п.3, какие могут быть трудности/блокеры внедрения иннициатив?"
   ]
  },
  {
   "cell_type": "markdown",
   "id": "975ef21c-4929-41fd-821c-9ea78be779d1",
   "metadata": {},
   "source": [
    "#### 4.1 Дополнительно к инициативам (стратегиям) сохранения take rate на прежнем уровне:"
   ]
  },
  {
   "cell_type": "markdown",
   "id": "25f2dda1-8749-4d9f-8cd4-aa76288c7cb0",
   "metadata": {},
   "source": [
    "- Коммуникация с клиентами. Важным шагом будет эффективная коммуникация с клиентами относительно изменений в клиентском тарифе. Необходимо объяснить причины повышения тарифа. Например, продемонстрировать заботу о клиентах, напомнив о недопустимости экономии на доставке и сохранении качества обслуживания.  \n",
    "- Можно попробовать ввести комплексную тарифную ставку. Так, выше определенного километража, клиентский тариф будет расти, а фиксированный тариф оставаться прежним для клиентов. Это менее болезненное решение для клиентов, чем повышение базовых клиентских тарифов. \n",
    "- С другой стороны, на определенную по порядку посылку можно давать скидку (например, на каждую 10ую посылку делать скидку), чтобы стимулировать увеличении заказов посылок со стороны клиентов.\n",
    "- Собирать фидбек у клиентов для улучшения качества обслуживания. Это относится к лояльности клиентов. Нужно удержать клиентов в период предположительного повышения тарифов. Фидбек также ожет казаться отношения клиентов к повышению клиентских тариф (панельное исследование с вопросами: 1) какая цена за доставку посылки для Вас приемлема?; 2) какие улучшения сервиса после повышения цен Вы ожидаете?)\n",
    "- Проведение тестов. Перед полным масштабным изменением тарифов можно провести тестовые запуски снижения курьерского тарифа или повышения клиентских тарифов на определенных сегментах клиентов или в определенных регионах. Тесты позволят оценить реакцию клиентов, изменение показателей прибыли и выручки (на которых основывается take rate), а также более подробно выявить возможные проблемы или трудности, связанные с внедрением инициатив.\n",
    "\n",
    "Важно понимать, что эти предварительные предложения не исчерпывающие. Для более эффктивных стратегий нужно собрать больше данных о пользователях (частота заказов для каждого клиента, как часто появляются новые клиенты и т.д.) и провести консультации с маркетинговым отделом."
   ]
  },
  {
   "cell_type": "markdown",
   "id": "3a867861-8571-4e24-b2ea-f7586d88b5bf",
   "metadata": {},
   "source": [
    "#### 4.2 Трудности и блокеры:"
   ]
  },
  {
   "cell_type": "markdown",
   "id": "4fc94a67-16bb-4965-902d-ff4e92be4b9e",
   "metadata": {},
   "source": [
    "- Общая рекомендация. При внедрении предложенных инициатив необходимо тщательно оценить финансовую устойчивость и способность компании выдержать убытки или временное снижение прибыли. \n",
    "- Решение установить клиентскую тарифную ставку не ниже 7.15 может быть проблематично для одних, хоть и выгодно для остальных. Например, тариф для клиентов А и Б вырастет на 2.15 и 1.15 соответственно, но снизится на 0.85 для клиента С. В результате возможен отток сразу двух клиентов, которые могут не согласиться на повышение тарифов за посылки. \n",
    "- Конкуренты не среагирует на повышение клиентских тарифов. Если повысить клиентские тарифы, а конкуренты оставят свои на прежнем уровне, то клиенты будут пользоваться услугами других компаний. Так, необходимо учитывать действия конкурентов и разрабатывать стратегии, чтобы сохранить конкурентоспособность.\n",
    "- Уровень обслуживания. Снижение курьерского тарифа может повлиять на уровень обслуживания клиентов, например, на время доставки или качество обработки посылок. Важно убедиться, что снижение тарифа не отразится на качестве обслуживания и удовлетворенности клиентов.\n",
    "- Регуляторные ограничения. Снижение курьерского тарифа может не должно привести к снижению оплаты труда курьеров ниже минимального размера оплаты труда."
   ]
  }
 ],
 "metadata": {
  "kernelspec": {
   "display_name": "Python 3 (ipykernel)",
   "language": "python",
   "name": "python3"
  },
  "language_info": {
   "codemirror_mode": {
    "name": "ipython",
    "version": 3
   },
   "file_extension": ".py",
   "mimetype": "text/x-python",
   "name": "python",
   "nbconvert_exporter": "python",
   "pygments_lexer": "ipython3",
   "version": "3.9.7"
  }
 },
 "nbformat": 4,
 "nbformat_minor": 5
}
